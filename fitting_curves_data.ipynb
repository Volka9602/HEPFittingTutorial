{
 "cells": [
  {
   "cell_type": "markdown",
   "metadata": {},
   "source": [
    "# Fitting curves to point clouds"
   ]
  },
  {
   "cell_type": "code",
   "execution_count": 68,
   "metadata": {},
   "outputs": [],
   "source": [
    "# Numerical operations:\n",
    "import numpy as np\n",
    "\n",
    "# Plotting library:\n",
    "import matplotlib.pyplot as plt\n",
    "\n",
    "# Minimizing/fitting library:\n",
    "import scipy.optimize"
   ]
  },
  {
   "cell_type": "markdown",
   "metadata": {},
   "source": [
    "<div class=\"alert alert-block alert-info\">\n",
    "<b>Remember:</b> You can always get help about any function, e.g. \n",
    "    <code>np.array</code> \n",
    "by typing\n",
    "\n",
    "``np.array?``\n",
    "</div>"
   ]
  },
  {
   "cell_type": "markdown",
   "metadata": {},
   "source": [
    "## Fitting lines or polynomial"
   ]
  },
  {
   "cell_type": "markdown",
   "metadata": {},
   "source": [
    "Fitting a polynomial to a point cloud.\n",
    "For this we use the ``polyfit`` function of numpy (https://docs.scipy.org/doc/numpy/reference/generated/numpy.polyfit.html). \n",
    "\n",
    "Source: https://stackoverflow.com/questions/19165259/"
   ]
  },
  {
   "cell_type": "markdown",
   "metadata": {},
   "source": [
    "Let's start by defining some points and their x and y projections:"
   ]
  },
  {
   "cell_type": "code",
   "execution_count": 66,
   "metadata": {},
   "outputs": [],
   "source": [
    "points = np.array([(1, 1), (2, 4), (3, 1), (9, 3)])\n",
    "x = points[:,0]\n",
    "y = points[:,1]"
   ]
  },
  {
   "cell_type": "markdown",
   "metadata": {},
   "source": [
    "Fitting a polynomial of degree ``deg`` is easy as calling:"
   ]
  },
  {
   "cell_type": "code",
   "execution_count": 39,
   "metadata": {},
   "outputs": [],
   "source": [
    "coeffs = np.polyfit(x, y, deg=3)"
   ]
  },
  {
   "cell_type": "markdown",
   "metadata": {},
   "source": [
    "The vector ``coeffs`` now contains the coefficients of the polynomial as a vector of length ``deg+1``:"
   ]
  },
  {
   "cell_type": "code",
   "execution_count": 19,
   "metadata": {},
   "outputs": [
    {
     "data": {
      "text/plain": [
       "array([  0.43452381,  -5.60714286,  16.7797619 , -10.60714286])"
      ]
     },
     "execution_count": 19,
     "metadata": {},
     "output_type": "execute_result"
    }
   ],
   "source": [
    "coeffs"
   ]
  },
  {
   "cell_type": "markdown",
   "metadata": {},
   "source": [
    "It's easy to also get the corresponding function:"
   ]
  },
  {
   "cell_type": "code",
   "execution_count": 38,
   "metadata": {},
   "outputs": [],
   "source": [
    "f = np.poly1d(coeffs)"
   ]
  },
  {
   "cell_type": "markdown",
   "metadata": {},
   "source": [
    "Let's finally have a look at the fit:"
   ]
  },
  {
   "cell_type": "code",
   "execution_count": 21,
   "metadata": {},
   "outputs": [
    {
     "data": {
      "image/png": "[encoded data removed]",
      "text/plain": [
       "<Figure size 432x288 with 1 Axes>"
      ]
     },
     "metadata": {
      "needs_background": "light"
     },
     "output_type": "display_data"
    }
   ],
   "source": [
    "# Some points where we evaluate our new function\n",
    "x_new = np.linspace(x[0], x[-1], 50)\n",
    "y_new = f(x_new)\n",
    "\n",
    "# Plot the datapoints\n",
    "plt.plot(x, y, 'ko', label=\"data\")\n",
    "\n",
    "# Plot our fitted polynomial\n",
    "plt.plot(x_new, y_new, 'r-', label=\"fit\")\n",
    "\n",
    "# Add legend etc\n",
    "plt.legend()\n",
    "plt.xlim([x[0]-1, x[-1] + 1 ])\n",
    "plt.show()"
   ]
  },
  {
   "cell_type": "markdown",
   "metadata": {},
   "source": [
    "<div class=\"alert alert-block alert-success\">\n",
    "<b>Exercise 1 [easy]:</b> Fit a straight line to the following dataset and determine the line parameters. Bonus points: Also plot the fit as above.\n",
    "</div>"
   ]
  },
  {
   "cell_type": "code",
   "execution_count": 40,
   "metadata": {},
   "outputs": [],
   "source": [
    "x_exercise1 = np.linspace(0, 1, 20)\n",
    "y_exercise1 = x + np.random.random(len(x))"
   ]
  },
  {
   "cell_type": "markdown",
   "metadata": {},
   "source": [
    "## Fitting Gaussian (or any arbitrary function)"
   ]
  },
  {
   "cell_type": "markdown",
   "metadata": {},
   "source": [
    "From https://stackoverflow.com/questions/19206332"
   ]
  },
  {
   "cell_type": "markdown",
   "metadata": {},
   "source": [
    "Again let's generate some points:"
   ]
  },
  {
   "cell_type": "code",
   "execution_count": 41,
   "metadata": {},
   "outputs": [],
   "source": [
    "x = scipy.asarray(range(10))\n",
    "y = 0.3*x + scipy.asarray([0,1,2,3,4,5,4,3,2,1])"
   ]
  },
  {
   "cell_type": "markdown",
   "metadata": {},
   "source": [
    "Here, we define our own function that we want to fit to our data points:"
   ]
  },
  {
   "cell_type": "code",
   "execution_count": 59,
   "metadata": {},
   "outputs": [],
   "source": [
    "def gaus(x, norm, mean, sigma):\n",
    "    # Here x0 is the mean\n",
    "    return norm*scipy.exp(-(x-mean)**2/(2*sigma**2))"
   ]
  },
  {
   "cell_type": "markdown",
   "metadata": {},
   "source": [
    "This function has 3 free parameters, ``a``, ``x0``, ``sigm``, which we will now fit:"
   ]
  },
  {
   "cell_type": "code",
   "execution_count": 60,
   "metadata": {},
   "outputs": [],
   "source": [
    "popt, pcov = scipy.optimize.curve_fit(gaus, x, y)"
   ]
  },
  {
   "cell_type": "markdown",
   "metadata": {},
   "source": [
    "The variable ``popt`` holds the parameters:"
   ]
  },
  {
   "cell_type": "code",
   "execution_count": 61,
   "metadata": {},
   "outputs": [
    {
     "data": {
      "text/plain": [
       "array([6.19486497, 5.74654967, 2.78281294])"
      ]
     },
     "execution_count": 61,
     "metadata": {},
     "output_type": "execute_result"
    }
   ],
   "source": [
    "popt"
   ]
  },
  {
   "cell_type": "markdown",
   "metadata": {},
   "source": [
    "The other variable, ``pcov`` holds the covariance matrix of the fitted values. \n",
    "This gets relevant once you want to give errors on your fitted quantities, but we'll ignore this for now."
   ]
  },
  {
   "cell_type": "code",
   "execution_count": 62,
   "metadata": {},
   "outputs": [
    {
     "data": {
      "image/png": "[encoded data removed]",
      "text/plain": [
       "<Figure size 432x288 with 1 Axes>"
      ]
     },
     "metadata": {
      "needs_background": "light"
     },
     "output_type": "display_data"
    }
   ],
   "source": [
    "# Plot points\n",
    "plt.plot(x, y,'ko',label='data')\n",
    "\n",
    "# Plot our gaussian\n",
    "# Define some points on the xaxis\n",
    "x_fine = np.linspace(min(x), max(x), 50)\n",
    "y_fine = gaus(x_fine, *popt)\n",
    "# The *  unpacks the values from popt and uses them as\n",
    "# parameters.\n",
    "\n",
    "plt.plot(x_fine, y_fine, 'r-', label='fit')\n",
    "\n",
    "# ...\n",
    "plt.legend()\n",
    "plt.show()"
   ]
  },
  {
   "cell_type": "markdown",
   "metadata": {},
   "source": [
    "<div class=\"alert alert-block alert-success\">\n",
    "   <b>Exercise 2a [easy]:</b> \n",
    "Modify the above example so that the sigma above is \n",
    "    <b>fixed</b> to 1.\n",
    "</div>"
   ]
  },
  {
   "cell_type": "markdown",
   "metadata": {},
   "source": [
    "<div class=\"alert alert-block alert-success\">\n",
    "   <b>Exercise 2b [medium]:</b> \n",
    "Let's try to fit the same dataset with a slightly more complicated model that consinsts of a \n",
    "linear part plus a Gaussian, i.e. \n",
    "    \n",
    "```f(x) = ax + b + gaus(x, norm, mean, sigma)```\n",
    "\n",
    "<b>Hint</b>:\n",
    "Create a new function ``mymodel`` which takes the parameters ``x``, as well as all fitted parameters, i.e. ``a``, ``b``, ``norm``, ``mean``, ``sigma``. In the definition you can also use the function ``gaus`` from above!\n",
    "</div>"
   ]
  },
  {
   "cell_type": "markdown",
   "metadata": {},
   "source": [
    "<div class=\"alert alert-block alert-success\">\n",
    "   <b>Exercise 2c [hard]:</b> \n",
    "Fit the above points as two lines, i.e. \n",
    "$$f(x) = \\begin{cases}\n",
    "  a_1 x + b_1 & \\text{if}\\ x<c\\\\\n",
    "  a_2 x + b_2 & \\text{if}\\ x\\geq c\\\\\n",
    "\\end{cases}$$\n",
    "</div>"
   ]
  }
 ],
 "metadata": {
  "kernelspec": {
   "display_name": "Python 3",
   "language": "python",
   "name": "python3"
  },
  "language_info": {
   "codemirror_mode": {
    "name": "ipython",
    "version": 3
   },
   "file_extension": ".py",
   "mimetype": "text/x-python",
   "name": "python",
   "nbconvert_exporter": "python",
   "pygments_lexer": "ipython3",
   "version": "3.5.2"
  }
 },
 "nbformat": 4,
 "nbformat_minor": 2
}
